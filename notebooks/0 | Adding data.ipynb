{
 "cells": [
  {
   "cell_type": "markdown",
   "id": "1b894cf4-1a31-43b7-b5d9-9871034565e7",
   "metadata": {},
   "source": [
    "Note: if you have downloaded the results and data folder from zenodo, you do not have to run this notebook."
   ]
  },
  {
   "cell_type": "markdown",
   "id": "01e5e1ca-599c-406f-b77d-925a2f16b8f3",
   "metadata": {},
   "source": [
    "# Adding a new dataset"
   ]
  },
  {
   "cell_type": "code",
   "execution_count": 1,
   "id": "639996e9-93a4-41f4-a291-1348b5a61773",
   "metadata": {},
   "outputs": [],
   "source": [
    "import pandas as pd"
   ]
  },
  {
   "cell_type": "markdown",
   "id": "b1f8d842-cacb-4920-9d2c-e63a3d2eb6b4",
   "metadata": {},
   "source": [
    "## Gene expression data"
   ]
  },
  {
   "cell_type": "code",
   "execution_count": 3,
   "id": "8ac628c1-6d9f-45f1-9185-a6230bc3cda4",
   "metadata": {},
   "outputs": [],
   "source": [
    "! mkdir -p ../data/ecoli_precise2"
   ]
  },
  {
   "cell_type": "code",
   "execution_count": 5,
   "id": "4395e653-504e-4ea4-a952-c4a07871dc48",
   "metadata": {},
   "outputs": [
    {
     "name": "stdout",
     "output_type": "stream",
     "text": [
      "--2021-09-27 16:37:37--  https://raw.githack.com/SBRG/precise2/master/data/precise2/log_tpm_norm_qc.csv\n",
      "Resolving raw.githack.com (raw.githack.com)... 104.21.234.231, 104.21.234.230, 2606:4700:3038::6815:eae6, ...\n",
      "Connecting to raw.githack.com (raw.githack.com)|104.21.234.231|:443... connected.\n",
      "HTTP request sent, awaiting response... 200 OK\n",
      "Length: unspecified [text/csv]\n",
      "Saving to: ‘../data/ecoli_precise2/E_raw.csv’\n",
      "\n",
      "../data/ecoli_preci     [              <=>   ]  62.20M  19.3MB/s    in 3.2s    \n",
      "\n",
      "2021-09-27 16:37:40 (19.3 MB/s) - ‘../data/ecoli_precise2/E_raw.csv’ saved [65221427]\n",
      "\n"
     ]
    }
   ],
   "source": [
    "! wget https://raw.githack.com/SBRG/precise2/master/data/precise2/log_tpm_norm_qc.csv -O ../data/ecoli_precise2/E_raw.csv"
   ]
  },
  {
   "cell_type": "code",
   "execution_count": 10,
   "id": "81b8bbb2-7bdc-4806-8f7e-8f103161ecf7",
   "metadata": {},
   "outputs": [
    {
     "name": "stdout",
     "output_type": "stream",
     "text": [
      "--2021-09-27 16:39:43--  https://raw.githack.com/SBRG/precise2/master/data/precise2/gene_info.csv\n",
      "Resolving raw.githack.com (raw.githack.com)... 104.21.234.231, 104.21.234.230, 2606:4700:3038::6815:eae6, ...\n",
      "Connecting to raw.githack.com (raw.githack.com)|104.21.234.231|:443... connected.\n",
      "HTTP request sent, awaiting response... 200 OK\n",
      "Length: unspecified [text/csv]\n",
      "Saving to: ‘../data/ecoli_precise2/gene_info.csv’\n",
      "\n",
      "../data/ecoli_preci     [ <=>                ] 448.99K  --.-KB/s    in 0.07s   \n",
      "\n",
      "2021-09-27 16:39:43 (6.40 MB/s) - ‘../data/ecoli_precise2/gene_info.csv’ saved [459769]\n",
      "\n"
     ]
    }
   ],
   "source": [
    "! wget https://raw.githack.com/SBRG/precise2/master/data/precise2/gene_info.csv  -O ../data/ecoli_precise2/gene_info.csv"
   ]
  },
  {
   "cell_type": "code",
   "execution_count": 14,
   "id": "37c1d5be-2b9a-4e4e-be9d-24aa0f945141",
   "metadata": {},
   "outputs": [
    {
     "name": "stdout",
     "output_type": "stream",
     "text": [
      "locus_tag,gene_name,old_locus_tag,start,end,strand,gene_product,COG,uniprot\n",
      "b0001,thrL,,190,255,+,thr operon leader peptide,No COG annotation,P0AD86\n",
      "b0002,thrA,,337,2799,+,fused aspartate kinase/homoserine dehydrogenase 1,Amino acid transport and metabolism,P00561\n",
      "b0003,thrB,,2801,3733,+,homoserine kinase,Nucleotide transport and metabolism,P00547\n",
      "b0004,thrC,,3734,5020,+,threonine synthase,Amino acid transport and metabolism,P00934\n",
      "b0005,yaaX,,5234,5530,+,DUF2502 domain-containing protein YaaX,Function unknown,P75616\n",
      "b0006,yaaA,,5683,6459,-,peroxide stress resistance protein YaaA,Function unknown,P0A8I3\n",
      "b0007,yaaJ,,6529,7959,-,putative transporter YaaJ,Amino acid transport and metabolism,P30143\n",
      "b0008,talB,,8238,9191,+,transaldolase B,Carbohydrate transport and metabolism,P0A870\n",
      "b0009,mog,,9306,9893,+,molybdopterin adenylyltransferase,Nucleotide transport and metabolism,P0AF03\n"
     ]
    }
   ],
   "source": [
    "! head ../data/ecoli_precise2/gene_info.csv"
   ]
  },
  {
   "cell_type": "code",
   "execution_count": 8,
   "id": "c9c6e51d-e0a5-4f18-9a88-0c0cfaf5fda0",
   "metadata": {},
   "outputs": [],
   "source": [
    "E = pd.read_csv(\"../data/ecoli_precise2/E_raw.csv\", index_col = 0)"
   ]
  },
  {
   "cell_type": "code",
   "execution_count": 11,
   "id": "5e0fc5df-9763-454e-8b0c-1c860c5d065f",
   "metadata": {},
   "outputs": [],
   "source": [
    "gene_info = pd.read_csv(\"../data/ecoli_precise2/gene_info.csv\", index_col = 0)"
   ]
  },
  {
   "cell_type": "code",
   "execution_count": 16,
   "id": "e3ee73ff-3365-4e10-a720-aca471c02d13",
   "metadata": {},
   "outputs": [
    {
     "data": {
      "text/plain": [
       "Index(['b0001', 'b0002', 'b0003', 'b0004', 'b0005', 'b0006', 'b0007', 'b0008',\n",
       "       'b0009', 'b0010',\n",
       "       ...\n",
       "       'b4394', 'b4395', 'b4396', 'b4397', 'b4398', 'b4399', 'b4400', 'b4401',\n",
       "       'b4402', 'b4403'],\n",
       "      dtype='object', name='locus_tag', length=4355)"
      ]
     },
     "execution_count": 16,
     "metadata": {},
     "output_type": "execute_result"
    }
   ],
   "source": [
    "gene_info.index"
   ]
  },
  {
   "cell_type": "code",
   "execution_count": 54,
   "id": "6cc57bd3-f33b-49bf-b220-2af405cd1115",
   "metadata": {},
   "outputs": [],
   "source": [
    "E.index = gene_info[\"gene_name\"][E.index]"
   ]
  },
  {
   "cell_type": "code",
   "execution_count": 59,
   "id": "46c96102-614b-4b5f-bd04-577388b254bb",
   "metadata": {},
   "outputs": [],
   "source": [
    "E.T.to_csv(\"../data/ecoli_precise2/E.tsv\", sep = \"\\t\")"
   ]
  },
  {
   "cell_type": "markdown",
   "id": "2b08fc55-0f59-4d66-82ab-99afe2699d4b",
   "metadata": {},
   "source": [
    "## Download and process most recent regulondb network"
   ]
  },
  {
   "cell_type": "code",
   "execution_count": 18,
   "id": "725c1d3e-93a2-4587-94fd-ae7b661d6282",
   "metadata": {},
   "outputs": [],
   "source": [
    "! mkdir -p ../data/ecoli_precise2/knownmodules"
   ]
  },
  {
   "cell_type": "code",
   "execution_count": 24,
   "id": "ade91be1-f932-456a-89d7-fcdc9bda7eab",
   "metadata": {},
   "outputs": [
    {
     "name": "stdout",
     "output_type": "stream",
     "text": [
      "--2021-09-27 16:48:32--  http://regulondb.ccg.unam.mx/menu/download/datasets/files/network_tf_gene.txt\n",
      "Resolving regulondb.ccg.unam.mx (regulondb.ccg.unam.mx)... 132.248.34.160\n",
      "Connecting to regulondb.ccg.unam.mx (regulondb.ccg.unam.mx)|132.248.34.160|:80... connected.\n",
      "HTTP request sent, awaiting response... 200 OK\n",
      "Length: 224852 (220K) [text/plain]\n",
      "Saving to: ‘../data/ecoli_precise2/knownmodules/regulondb_raw.txt’\n",
      "\n",
      "../data/ecoli_preci 100%[===================>] 219.58K   279KB/s    in 0.8s    \n",
      "\n",
      "2021-09-27 16:48:34 (279 KB/s) - ‘../data/ecoli_precise2/knownmodules/regulondb_raw.txt’ saved [224852/224852]\n",
      "\n"
     ]
    }
   ],
   "source": [
    "! wget http://regulondb.ccg.unam.mx/menu/download/datasets/files/network_tf_gene.txt -O ../data/ecoli_precise2/knownmodules/regulondb_raw.txt"
   ]
  },
  {
   "cell_type": "code",
   "execution_count": 31,
   "id": "2a3df433-53ac-4bc9-b8bc-2c4236facce9",
   "metadata": {},
   "outputs": [
    {
     "name": "stdout",
     "output_type": "stream",
     "text": [
      "# Copies and Copyright-Notice\n",
      "#\n",
      "#      RegulonDB is free for academic/noncommercial use\n",
      "#\n",
      "#      User is not entitled to change or erase data sets of the RegulonDB\n",
      "#      database or to eliminate copyright notices from RegulonDB. Furthermore,\n",
      "#      User is not entitled to expand RegulonDB or to integrate RegulonDB partly\n",
      "#      or as a whole into other databank systems, without prior written consent\n",
      "#      from CCG-UNAM.\n",
      "#\n",
      "#      Please check the license at http://regulondb.ccg.unam.mx/menu/download/full_version/terms_and_conditions.jsp\n",
      "#\n",
      "# Citation\n",
      "#\n",
      "#      Santos-Zavaleta A et al. (2019). RegulonDB v 10.5: tackling challenges to unify classic and high throughput knowledge of gene regulation in E. coli K-12.,\n",
      "#      Nucleic Acids Res. 2019 Jan 8;47(D1):D212-D220. doi: 10.1093/nar/gky1077.\n",
      "#\n",
      "#\n",
      "# Contact\n",
      "#\n",
      "#      Person: RegulonDB Team\n",
      "#      Web Page: http://regulondb.ccg.unam.mx/menu/about_regulondb/contact_us/index.jsp\n",
      "#          (regulondb@ccg.unam.mx)\n",
      "#\n",
      "#\n",
      "# Release: 10.9 Date: 06/29/2021\n",
      "# ___________________________________________________________________________\n",
      "#\n",
      "# Columns:\n",
      "#  (1) Transcription Factor (TF) ID\n",
      "#  (2) Transcription Factor (TF) Name\n",
      "#  (3) Gene ID regulated by the TF (regulated gene)\n",
      "#  (4) Gene regulated by the TF (regulated gene)\n",
      "#  (5) Regulatory effect of the TF on the regulated gene (+ activator, - repressor, +- dual, ? unknown)\n",
      "#  (6) Evidence that supports the existence of the regulatory interaction\n",
      "#  (7) Evidence Type [Weak, Strong, Confirmed] For details see: http://regulondb.ccg.unam.mx/evidenceclassification\n",
      "#\n",
      "ECK125286586\tAccB\tECK120000269\taccB\t-\t[]\tnull\t\n",
      "ECK125286586\tAccB\tECK120000270\taccC\t-\t[]\tnull\t\n",
      "ECK120015994\tAcrR\tECK120001646\tacrA\t-\t[]\tnull\t\n"
     ]
    }
   ],
   "source": [
    "! head -n 40 ../data/ecoli_precise2/knownmodules/regulondb_raw.txt"
   ]
  },
  {
   "cell_type": "code",
   "execution_count": 63,
   "id": "6a46fc5f-ef38-47f3-a554-738e71a4c8c0",
   "metadata": {},
   "outputs": [],
   "source": [
    "regnet = pd.read_table(\"../data/ecoli_precise2/knownmodules/regulondb_raw.txt\", comment = \"#\", names = [\"tf_id\", \"tf_name\", \"target_id\", \"target_name\", \"effect\", \"evidence\", \"evidence_type\", \"-\"])\n",
    "regnet = regnet.query(\"target_name in @E.index\")"
   ]
  },
  {
   "cell_type": "code",
   "execution_count": 68,
   "id": "fc44d021-6fa5-4cec-bcf8-aa3fa35164de",
   "metadata": {},
   "outputs": [],
   "source": [
    "modules = []\n",
    "for tf_name, tf_regnet in regnet.groupby(\"tf_name\"):\n",
    "    if tf_regnet.shape[0] > 5:\n",
    "        modules.append(tf_regnet[\"target_name\"].tolist())"
   ]
  },
  {
   "cell_type": "code",
   "execution_count": 71,
   "id": "cc2da824-d384-46ec-8380-590c581c8a8b",
   "metadata": {},
   "outputs": [
    {
     "data": {
      "text/plain": [
       "132"
      ]
     },
     "execution_count": 71,
     "metadata": {},
     "output_type": "execute_result"
    }
   ],
   "source": [
    "len(modules)"
   ]
  },
  {
   "cell_type": "code",
   "execution_count": 94,
   "id": "9d2dc5f8-3d1d-4df4-9fdb-9f02462f04bc",
   "metadata": {},
   "outputs": [],
   "source": [
    "import json"
   ]
  },
  {
   "cell_type": "code",
   "execution_count": 98,
   "id": "482fef58-77b3-4125-9050-dc24446cf11b",
   "metadata": {},
   "outputs": [],
   "source": [
    "!mkdir -p ../data/ecoli_precise2/knownmodules/ecoli_regulondb"
   ]
  },
  {
   "cell_type": "code",
   "execution_count": 96,
   "id": "d59d6945-8b44-4959-a271-38a01161e3e1",
   "metadata": {},
   "outputs": [],
   "source": [
    "json.dump(modules, open(\"../data/ecoli_precise2/knownmodules/ecoli_regulondb/minimal.json\", \"w\"))"
   ]
  },
  {
   "cell_type": "code",
   "execution_count": 97,
   "id": "9cf03d37-1fc1-4f3b-b15d-19c839e271c1",
   "metadata": {},
   "outputs": [],
   "source": [
    "tfs = list(set([tf[0].lower() + tf[1:] for tfs in regnet[\"tf_name\"].unique() for tf in tfs.split(\"-\")]) & set(E.index))\n",
    "\n",
    "json.dump(tfs, open(\"../data/ecoli_precise2/regulators.json\", \"w\"))"
   ]
  },
  {
   "cell_type": "markdown",
   "id": "0d3814eb-bdaa-4499-803b-79b986b0685f",
   "metadata": {},
   "source": [
    "## Write configuration file"
   ]
  },
  {
   "cell_type": "code",
   "execution_count": 102,
   "id": "d02bf0aa-0b09-4e57-8fb8-ec60262f0c94",
   "metadata": {},
   "outputs": [],
   "source": [
    "config = {\n",
    "    \"location\": \"conf/datasets/ecoli_precise2.json\",\n",
    "    \"knownmodules\": {\n",
    "        \"ecoli_regulondb\": {\n",
    "            \"minimal\": \"data/ecoli_precise2/knownmodules/ecoli_regulondb/minimal.json\"\n",
    "        }\n",
    "    },\n",
    "    \"gsets\": {\n",
    "    },\n",
    "    \"regulators\": \"data/ecoli_colombos/regulators.json\",\n",
    "    \"binding\": {\n",
    "    },\n",
    "    \"datasetname\": \"ecoli_precise2\",\n",
    "    \"regnets\": [\n",
    "        \"ecoli_regulondb\"\n",
    "    ],\n",
    "    \"params\": {\n",
    "        \"datasetname\": \"ecoli_precise2\",\n",
    "        \"organism\": \"ecoli\"\n",
    "    },\n",
    "    \"simdistfolder\":\"\",\n",
    "    \"baselinename\": \"ecoli_precise2\",\n",
    "    \"expression\": \"data/ecoli_precise2/E.tsv\"\n",
    "}\n",
    "json.dump(config, open(\"../conf/datasets/ecoli_precise2.json\", \"w\"))"
   ]
  }
 ],
 "metadata": {
  "kernelspec": {
   "display_name": "Python 3 (ipykernel)",
   "language": "python",
   "name": "python3"
  },
  "language_info": {
   "codemirror_mode": {
    "name": "ipython",
    "version": 3
   },
   "file_extension": ".py",
   "mimetype": "text/x-python",
   "name": "python",
   "nbconvert_exporter": "python",
   "pygments_lexer": "ipython3",
   "version": "3.9.7"
  }
 },
 "nbformat": 4,
 "nbformat_minor": 5
}
